{
  "cells": [
    {
      "cell_type": "markdown",
      "metadata": {
        "id": "view-in-github",
        "colab_type": "text"
      },
      "source": [
        "<a href=\"https://colab.research.google.com/github/karlyfear/Test/blob/main/W1L2_Overfitting.ipynb\" target=\"_parent\"><img src=\"https://colab.research.google.com/assets/colab-badge.svg\" alt=\"Open In Colab\"/></a>"
      ]
    },
    {
      "cell_type": "markdown",
      "source": [
        "#**Model evaluation**\n",
        "<font color='grey' size='1.5'> This notebook is modified by Parisa Hosseinzadeh for *Modeling of physiological system* class, Fall 2022. The original version of this notebook was contributed by James Murray.\n",
        "\n",
        "Let's take a look at a model for our dataset and how different measures we learn in the class can help us evaluate our model."
      ],
      "metadata": {
        "id": "Swcm9ly3J6z7"
      }
    },
    {
      "cell_type": "markdown",
      "source": [
        "## **Part 1** R-squared as a measure of goodness of model\n",
        "\n",
        "In the first part of the activity, you will be working on generating regression models for a dataset (you'll learn how to build these regression models in the next lecture) and calculating R-squared to find the best model. "
      ],
      "metadata": {
        "id": "7vp9eLbbv9KD"
      }
    },
    {
      "cell_type": "code",
      "execution_count": null,
      "metadata": {
        "id": "UU2MmpKoJzMk",
        "cellView": "form"
      },
      "outputs": [],
      "source": [
        "#@title Generating our dataset\n",
        "#@markdown Let's run this cell to generate our dataset\n",
        "#@markdown and take a look at what we have.\n",
        "\n",
        "#@markdown Let's define the number of datapoints\n",
        "#@markdown we'd like to have.\n",
        "#@markdown We're going to start with 20.\n",
        "n = 20  # @param number of data points\n",
        "\n",
        "#importing necessary modules\n",
        "import numpy as np\n",
        "import matplotlib.pyplot as plt\n",
        "\n",
        "\n",
        "# The true intercept and slope for the data if noise isn't present:\n",
        "alpha_true = 0.5\n",
        "beta_true = 1.5\n",
        "\n",
        "# Simulated data:\n",
        "#DO NOT change the seed. The assignment numbers\n",
        "#are based on this!\n",
        "np.random.seed(42)\n",
        "x_data = np.random.rand(n)\n",
        "noise_amp = 0.3\n",
        "noise = noise_amp*np.random.randn(n)\n",
        "y_data = alpha_true + beta_true*x_data + noise\n",
        "\n",
        "plt.plot(x_data, y_data, 'o')\n",
        "plt.xlabel('x')\n",
        "plt.ylabel('y')"
      ]
    },
    {
      "cell_type": "code",
      "execution_count": null,
      "metadata": {
        "id": "gfW1gneiJzMn",
        "cellView": "form"
      },
      "outputs": [],
      "source": [
        "#@title Linear fit\n",
        "#@markdown We're going to first start with a linear fit.\n",
        "\n",
        "#@markdown that is `y = beta0 + beta1*x`\n",
        "\n",
        "#@markdown You'll learn how to perform this later in the class.\n",
        "\n",
        "#@markdown **Question:** What is the number you get for slope (beta1)\n",
        "#@markdown and intercept (beta0)?\n",
        "\n",
        "fit = np.polyfit(x_data, y_data, 1)\n",
        "beta1, beta0 = fit\n",
        "print('beta: ', beta1)\n",
        "print('alpha: ', beta0)"
      ]
    },
    {
      "cell_type": "code",
      "execution_count": null,
      "metadata": {
        "id": "I3o-fRNxJzMo",
        "cellView": "form"
      },
      "outputs": [],
      "source": [
        "#@title Plotting data with the fit\n",
        "#@markdown Let's take a look at our fit.\n",
        "\n",
        "x_pts = np.arange(0,1,0.01)\n",
        "y_fit = beta0 + beta1*x_pts\n",
        "\n",
        "plt.plot(x_data, y_data, 'o')\n",
        "plt.xlabel('x')\n",
        "plt.ylabel('y')\n",
        "plt.plot(x_pts, y_fit)"
      ]
    },
    {
      "cell_type": "code",
      "source": [
        "#@title Calculating r-squared\n",
        "#@markdown If you run this cell, you get the real values of your input (x)\n",
        "#@markdown and your actual outputs (y).\n",
        "\n",
        "#@markdown **Question:** Given these values, your beta1 and beta0 (above) \n",
        "#@markdown and what you learned in class, calculate r-squared.\n",
        "\n",
        "#@markdown Note: Use any tool you feel comfortable with to perform this calculation:\n",
        "#@markdown calculation with hands, python code, matlab, excel, etc.\n",
        "\n",
        "print(\"input data (x) is:\")\n",
        "for x in x_data:\n",
        "  print(x)\n",
        "\n",
        "print()\n",
        "\n",
        "print(\"Real output values (y) are:\")\n",
        "for y in y_data:\n",
        "  print(y)\n"
      ],
      "metadata": {
        "cellView": "form",
        "id": "KmYO8nMeCGp1"
      },
      "execution_count": null,
      "outputs": []
    },
    {
      "cell_type": "code",
      "execution_count": null,
      "metadata": {
        "id": "Bx0L34CBJzMo",
        "cellView": "form"
      },
      "outputs": [],
      "source": [
        "#@title Checking your answer\n",
        "#@markdown Run this cell to check your answer.\n",
        "\n",
        "#R2 for linear regression\n",
        "def g1(x, beta0, beta1):\n",
        "    return beta0 + beta1*x\n",
        "\n",
        "var_unexplained = np.sum((g1(x_data,beta0,beta1)-y_data)**2)/n\n",
        "var_total = np.var(y_data)\n",
        "r_squared = 1 - var_unexplained/var_total\n",
        "print('r-squared: ', r_squared)"
      ]
    },
    {
      "cell_type": "markdown",
      "source": [
        "### Polynomial fit\n",
        "\n",
        "In the next few cells, we will try fitting a polynomial model to our data. Start with polynomial 2, take a look at the results and the R-squared. Then move your way up to higher degrees (don't go above 15)."
      ],
      "metadata": {
        "id": "ohY9wdX2ygte"
      }
    },
    {
      "cell_type": "code",
      "execution_count": null,
      "metadata": {
        "id": "7jYypdGEJzMp",
        "cellView": "form"
      },
      "outputs": [],
      "source": [
        "#@markdown Let's run our polynomial fit.\n",
        "\n",
        "#@markdown We're going to start with polynomial degree 2, \n",
        "#@markdown that is `y = beta0 + beta1*x + beta2*x^2`\n",
        "#@markdown Simply change the value of d to go from 2 to other numbers.\n",
        "d = 2  # @param degree\n",
        "\n",
        "#@markdown What are your b numbers?\n",
        "\n",
        "fit = np.polyfit(x_data, y_data, d)\n",
        "# flip the list so that it starts with beta0\n",
        "beta_list = fit[::-1]  \n",
        "print(beta_list)\n"
      ]
    },
    {
      "cell_type": "code",
      "execution_count": null,
      "metadata": {
        "id": "ENkUw8QlJzMq",
        "cellView": "form"
      },
      "outputs": [],
      "source": [
        "#@title Plotting data with the fit\n",
        "#@markdown Let's take a look at our fit.\n",
        "\n",
        "def g(x, beta_list):\n",
        "    y = 0\n",
        "    for p in range(len(beta_list)):\n",
        "        y = y + beta_list[p]*x**p\n",
        "        \n",
        "    return y\n",
        "\n",
        "x_pts = np.arange(0,1,0.01)\n",
        "#y_fit = beta0 + beta1*x_pts + beta2*x_pts**2\n",
        "y_fit = g(x_pts, beta_list)\n",
        "\n",
        "plt.plot(x_data, y_data, 'o')\n",
        "plt.xlabel('x')\n",
        "plt.ylabel('y')\n",
        "plt.plot(x_pts, y_fit)\n",
        "plt.ylim(0,3)"
      ]
    },
    {
      "cell_type": "code",
      "source": [
        "#@title Calculating r-squared\n",
        "#@markdown Run this cell to see the r-squared value for your fit.\n",
        "\n",
        "def g(x, beta_list):\n",
        "    y = 0\n",
        "    for p in range(len(beta_list)):\n",
        "        y = y + beta_list[p]*x**p\n",
        "        \n",
        "    return y\n",
        "\n",
        "var_unexplained = np.sum((g(x_data,beta_list)-y_data)**2)/n\n",
        "var_total = np.var(y_data)\n",
        "r_squared = 1 - var_unexplained/var_total\n",
        "print('r-squared: ', r_squared)"
      ],
      "metadata": {
        "cellView": "form",
        "id": "NnGvIYYYzCkV"
      },
      "execution_count": null,
      "outputs": []
    },
    {
      "cell_type": "markdown",
      "source": [
        "**Question:** Based on r-squared values, which one is a better model?"
      ],
      "metadata": {
        "id": "3oF4g1RB1BMi"
      }
    },
    {
      "cell_type": "markdown",
      "source": [
        "## **Part 2** AIC as a measure of goodness of model\n",
        "\n",
        "Now let's try using AIC as a measure of goodness of fit."
      ],
      "metadata": {
        "id": "MHAjRiwKzMDQ"
      }
    },
    {
      "cell_type": "code",
      "source": [
        "#@title Fitting\n",
        "\n",
        "#@markdown Let's first perform our fit.\n",
        "\n",
        "#@markdown Choose a few of degrees you tried above: 1, 2, your best model, \n",
        "#@markdown some number in between.\n",
        "#@markdown Simply change the value of d to go from 1 to other numbers.\n",
        "d = 3  # @param degree\n",
        "\n",
        "#@markdown What are your b numbers?\n",
        "\n",
        "fit = np.polyfit(x_data, y_data, d)\n",
        "# flip the list so that it starts with beta0\n",
        "beta_list = fit[::-1]  \n",
        "print(beta_list)"
      ],
      "metadata": {
        "id": "0e12wlDLzYdO",
        "cellView": "form"
      },
      "execution_count": null,
      "outputs": []
    },
    {
      "cell_type": "code",
      "source": [
        "#@title Plotting data with the fit\n",
        "#@markdown Let's take a look at our fit.\n",
        "\n",
        "def g(x, beta_list):\n",
        "    y = 0\n",
        "    for p in range(len(beta_list)):\n",
        "        y = y + beta_list[p]*x**p\n",
        "        \n",
        "    return y\n",
        "\n",
        "x_pts = np.arange(0,1,0.01)\n",
        "#y_fit = beta0 + beta1*x_pts + beta2*x_pts**2\n",
        "y_fit = g(x_pts, beta_list)\n",
        "\n",
        "plt.plot(x_data, y_data, 'o')\n",
        "plt.xlabel('x')\n",
        "plt.ylabel('y')\n",
        "plt.plot(x_pts, y_fit)\n",
        "plt.ylim(0,3)"
      ],
      "metadata": {
        "cellView": "form",
        "id": "OYXd53zbzse5"
      },
      "execution_count": null,
      "outputs": []
    },
    {
      "cell_type": "markdown",
      "source": [
        "Running the cell below will calculate AIC for you. Try to calcuate AIC yourself for a linear fit without running the cell and use the cell to double check your value."
      ],
      "metadata": {
        "id": "Y0EYsUIuzyPs"
      }
    },
    {
      "cell_type": "code",
      "source": [
        "#@title Calculating AIC\n",
        "#@markdown Run this cell to see the AIC value for your fit.\n",
        "\n",
        "def g(x, beta_list):\n",
        "    y = 0\n",
        "    for p in range(len(beta_list)):\n",
        "        y = y + beta_list[p]*x**p\n",
        "        \n",
        "    return y\n",
        "\n",
        "diff_data = np.sum((g(x_data,beta_list)-y_data)**2)\n",
        "aic= n*np.log(diff_data) + 2*(d+1)\n",
        "print('AIC: ', aic)"
      ],
      "metadata": {
        "id": "5K7WeRF5zvEm",
        "cellView": "form"
      },
      "execution_count": null,
      "outputs": []
    },
    {
      "cell_type": "markdown",
      "source": [
        "Let's run the code below to get the AIC values for a range of polynomials."
      ],
      "metadata": {
        "id": "D8-04mBK8qY5"
      }
    },
    {
      "cell_type": "code",
      "source": [
        "#@markdown running this cell will give you AIC values for d=0 to d=15.\n",
        "\n",
        "d_list = [i for i in range(0,16)]\n",
        "aic_val = []\n",
        "for d in d_list:\n",
        "  fit = np.polyfit(x_data, y_data, d)\n",
        "  # flip the list so that it starts with beta0\n",
        "  beta_list = fit[::-1]\n",
        "\n",
        "  diff_data = np.sum((g(x_data,beta_list)-y_data)**2)\n",
        "  aic_val.append(n*np.log(diff_data) + 2*(d+1))\n",
        "\n",
        "plt.plot(aic_val, '-ob')\n",
        "plt.xlabel('d')\n",
        "plt.ylabel('AIC')"
      ],
      "metadata": {
        "cellView": "form",
        "id": "oezQwwtZ8vQg"
      },
      "execution_count": null,
      "outputs": []
    },
    {
      "cell_type": "markdown",
      "source": [
        "**Question:** Based on AIC values, which one is a better model?"
      ],
      "metadata": {
        "id": "px-lvG981jXr"
      }
    },
    {
      "cell_type": "markdown",
      "source": [
        "## **Part 3** Using train/test split to avoid overfitting\n",
        "\n",
        "The problem we see above is called overfitting. You can increase the number of parameters and get better and better fits, but the model does not generalize well.\n",
        "\n",
        "Let's walk through the activity below to see how we can use a train/test split to find the best model."
      ],
      "metadata": {
        "id": "XngOb_Sz3Of7"
      }
    },
    {
      "cell_type": "code",
      "execution_count": null,
      "metadata": {
        "id": "OIzVGoSWJzMt",
        "cellView": "form"
      },
      "outputs": [],
      "source": [
        "#@title Splitting the data\n",
        "#@markdown Let's see what happens if we split our data.\n",
        "#@markdown We're using a 2:3 split (test:train)\n",
        "\n",
        "x_train = x_data[:int(1.2*n/2)]\n",
        "x_test = x_data[int(1.2*n/2):]\n",
        "y_train = y_data[:int(1.2*n/2)]\n",
        "y_test = y_data[int(1.2*n/2):]\n",
        "\n",
        "# Plot the two parts of the data\n",
        "plt.plot(x_train, y_train, 'ob')\n",
        "plt.plot(x_test, y_test, 'or')\n",
        "plt.legend(['Training', 'Testing'])\n",
        "plt.xlabel('x')\n",
        "plt.ylabel('y')"
      ]
    },
    {
      "cell_type": "code",
      "execution_count": null,
      "metadata": {
        "id": "aKbKmAlIJzMu",
        "cellView": "form"
      },
      "outputs": [],
      "source": [
        "#@title Checking our polynomial fit\n",
        "#@markdown Let's repeat our fit \n",
        "#@markdown on just the training set and see how it\n",
        "#@markdown looks like on test set.\n",
        "\n",
        "#@markdown Let's start with the best fit from your r-squared calculations.\n",
        "#@markdown the best r-squared\n",
        "d = 2 #@param degree\n",
        "\n",
        "fit = np.polyfit(x_train, y_train, d)\n",
        "beta_list = fit[::-1]  # flip the list so that it starts with beta0\n",
        "\n",
        "x_pts = np.arange(0,1,0.01)\n",
        "#y_fit = beta0 + beta1*x_pts + beta2*x_pts**2\n",
        "y_fit = g(x_pts, beta_list)\n",
        "\n",
        "# Plot the two parts of the data\n",
        "plt.plot(x_train, y_train, 'ob')\n",
        "plt.plot(x_test, y_test, 'or')\n",
        "plt.legend(['Training', 'Testing'])\n",
        "plt.xlabel('x')\n",
        "plt.ylabel('y')\n",
        "plt.plot(x_pts, y_fit, 'b')\n",
        "plt.ylim(0,3)"
      ]
    },
    {
      "cell_type": "code",
      "execution_count": null,
      "metadata": {
        "id": "xDtnWy8UJzMv",
        "cellView": "form"
      },
      "outputs": [],
      "source": [
        "#@title r-squared on test vs training set\n",
        "#@markdown Run this cell to get the r-squared values\n",
        "#@markdown for training and test set.\n",
        "\n",
        "#@markdown **Question:** What is your conclusion?\n",
        "\n",
        "# Calculate r-squared for training data:\n",
        "var_unexplained = np.sum((g(x_train,beta_list)-y_train)**2)/(1.2*n/2)\n",
        "var_total = np.var(y_train)\n",
        "r_squared = 1 - var_unexplained/var_total\n",
        "print('Training r-squared: ', r_squared)\n",
        "\n",
        "# Calculate r-squared for the testing data:\n",
        "var_unexplained = np.sum((g(x_test,beta_list)-y_test)**2)/(0.8*n/2)\n",
        "var_total = np.var(y_test)\n",
        "r_squared = 1 - var_unexplained/var_total\n",
        "print('Testing r-squared: ', r_squared)"
      ]
    },
    {
      "cell_type": "markdown",
      "source": [
        "**Question:** Run the above two cells for polynomial 1 and 2. What do you see?"
      ],
      "metadata": {
        "id": "y-2PAJ1C3S_t"
      }
    },
    {
      "cell_type": "code",
      "execution_count": null,
      "metadata": {
        "id": "LprTjkM2JzMw",
        "cellView": "form"
      },
      "outputs": [],
      "source": [
        "#@title Finding the best fit\n",
        "#@markdown What you saw before is called over fitting.\n",
        "#@markdown To find the best fit, we can right a function to see\n",
        "#@markdown which polynomial dgree gives the best results for \n",
        "#@markdown both the test and training set.\n",
        "\n",
        "#@markdown Run this cell to see the number. What is the best fit?\n",
        "\n",
        "def fit(x, y, d, make_plots=True):\n",
        "    '''\n",
        "    Given data x and y, split the data into training and testing sets,\n",
        "    fit a polynomial of degree p to the training data, and return \n",
        "    r-squared for both the training and testing data.\n",
        "    \n",
        "    Parameters\n",
        "    --\n",
        "    x : a 1D array of data\n",
        "    \n",
        "    y : a 1D array of data (same size as x)\n",
        "    \n",
        "    make_plots : if True, plot the results\n",
        "    \n",
        "    Returns\n",
        "    --\n",
        "    r_squared_train : r_squared for the training data\n",
        "    \n",
        "    r_squared_test : r_squared for the testing data\n",
        "    '''\n",
        "    n = len(x)\n",
        "    \n",
        "    # Split the data into training and testing sets:\n",
        "    x_train = x_data[:int(1.2*n/2)]\n",
        "    x_test = x_data[int(1.2*n/2):]\n",
        "    y_train = y_data[:int(1.2*n/2)]\n",
        "    y_test = y_data[int(1.2*n/2):]\n",
        "\n",
        "    # Fit a polynomial of degree p to the training data:\n",
        "    fit = np.polyfit(x_train, y_train, d)\n",
        "    beta_list = fit[::-1]  # flip the list so that it starts with beta0\n",
        "\n",
        "    # Plot the data together with the fit.\n",
        "    x_pts = np.arange(0,1,0.01)\n",
        "    y_fit = g(x_pts, beta_list)\n",
        "\n",
        "    # Plot the two parts of the data\n",
        "    if make_plots:\n",
        "        plt.plot(x_train, y_train, 'ob')\n",
        "        plt.plot(x_test, y_test, 'or')\n",
        "        plt.legend(['Training', 'Testing'])\n",
        "        plt.xlabel('x')\n",
        "        plt.ylabel('y')\n",
        "        plt.plot(x_pts, y_fit, 'b')\n",
        "        plt.ylim(0,3)\n",
        "    \n",
        "    # Calculate r-squared for training data:\n",
        "    var_unexplained = np.sum((g(x_train,beta_list)-y_train)**2)/int(1.2*n/2)\n",
        "    var_total = np.var(y_train)\n",
        "    r_squared_train = 1 - var_unexplained/var_total\n",
        "\n",
        "    # Calculate r-squared for the testing data:\n",
        "    var_unexplained = np.sum((g(x_test,beta_list)-y_test)**2)/int(0.8*n/2)\n",
        "    var_total = np.var(y_test)\n",
        "    r_squared_test = 1 - var_unexplained/var_total\n",
        "\n",
        "    return r_squared_train, r_squared_test\n",
        "\n",
        "p_max = 8  # maximum degree of polynomial to try\n",
        "\n",
        "r2train_list = np.zeros(p_max+1)\n",
        "r2test_list = np.zeros(p_max+1)\n",
        "for d in range(p_max+1):\n",
        "    r2train, r2test = fit(x_data, y_data, d, make_plots=False)\n",
        "    r2train_list[d] = r2train\n",
        "    r2test_list[d] = r2test\n",
        "    \n",
        "plt.plot(r2train_list, '-ob')\n",
        "plt.plot(r2test_list, '-or')\n",
        "plt.xlabel('d')\n",
        "plt.ylabel('r-squared')\n",
        "plt.legend(['Training', 'Testing'])\n"
      ]
    },
    {
      "cell_type": "markdown",
      "source": [
        "**Question:** What is the best model based on this?"
      ],
      "metadata": {
        "id": "Z3b5A3nE6lEQ"
      }
    }
  ],
  "metadata": {
    "kernelspec": {
      "display_name": "Python 3",
      "language": "python",
      "name": "python3"
    },
    "language_info": {
      "codemirror_mode": {
        "name": "ipython",
        "version": 3
      },
      "file_extension": ".py",
      "mimetype": "text/x-python",
      "name": "python",
      "nbconvert_exporter": "python",
      "pygments_lexer": "ipython3",
      "version": "3.7.10"
    },
    "colab": {
      "provenance": [],
      "collapsed_sections": [],
      "include_colab_link": true
    }
  },
  "nbformat": 4,
  "nbformat_minor": 0
}